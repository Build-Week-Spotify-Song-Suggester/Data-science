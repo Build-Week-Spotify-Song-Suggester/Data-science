{
 "cells": [
  {
   "cell_type": "markdown",
   "metadata": {},
   "source": [
    "### Load Sample Data"
   ]
  },
  {
   "cell_type": "code",
   "execution_count": 7,
   "metadata": {
    "ExecuteTime": {
     "end_time": "2019-09-24T21:20:21.932846Z",
     "start_time": "2019-09-24T21:20:20.294824Z"
    }
   },
   "outputs": [],
   "source": [
    "import pandas as pd\n",
    "import json\n",
    "import requests"
   ]
  },
  {
   "cell_type": "code",
   "execution_count": 8,
   "metadata": {
    "ExecuteTime": {
     "end_time": "2019-09-24T21:20:23.052471Z",
     "start_time": "2019-09-24T21:20:21.935491Z"
    }
   },
   "outputs": [
    {
     "data": {
      "text/html": [
       "<div>\n",
       "<style scoped>\n",
       "    .dataframe tbody tr th:only-of-type {\n",
       "        vertical-align: middle;\n",
       "    }\n",
       "\n",
       "    .dataframe tbody tr th {\n",
       "        vertical-align: top;\n",
       "    }\n",
       "\n",
       "    .dataframe thead th {\n",
       "        text-align: right;\n",
       "    }\n",
       "</style>\n",
       "<table border=\"1\" class=\"dataframe\">\n",
       "  <thead>\n",
       "    <tr style=\"text-align: right;\">\n",
       "      <th></th>\n",
       "      <th>Searched_Song</th>\n",
       "      <th>Nearest_Song1</th>\n",
       "      <th>Nearest_Song2</th>\n",
       "      <th>Nearest_Song3</th>\n",
       "      <th>Nearest_Song4</th>\n",
       "      <th>Nearest_Song5</th>\n",
       "      <th>Nearest_Song6</th>\n",
       "      <th>Nearest_Song7</th>\n",
       "      <th>Nearest_Song8</th>\n",
       "      <th>Nearest_Song9</th>\n",
       "      <th>Nearest_Song10</th>\n",
       "    </tr>\n",
       "  </thead>\n",
       "  <tbody>\n",
       "    <tr>\n",
       "      <td>0</td>\n",
       "      <td>2RM4jf1Xa9zPgMGRDiht8O</td>\n",
       "      <td>27j0DacqVJQh0zfeT3ro04</td>\n",
       "      <td>0v2ho4OPJppOu3JXtuiNWG</td>\n",
       "      <td>1wDVA4RdRktGUj1PO9UWry</td>\n",
       "      <td>1JueotTuCnkcTA7tBA5hLR</td>\n",
       "      <td>6gL8GtFF83CljrwbTOWTYa</td>\n",
       "      <td>0xOMrILs6M1Xf9uoihYRy7</td>\n",
       "      <td>68CcjsUbRVus2F1MlcvHTx</td>\n",
       "      <td>0i9ctiWzDtHBuL19lVXv8t</td>\n",
       "      <td>2OIZgCdPVPHAV8ZJAkEmAI</td>\n",
       "      <td>5W0TmFbf99HsjItflpvu2y</td>\n",
       "    </tr>\n",
       "    <tr>\n",
       "      <td>1</td>\n",
       "      <td>1tHDG53xJNGsItRA3vfVgs</td>\n",
       "      <td>3pU68iUbatcIjQD7PlIzFX</td>\n",
       "      <td>0NuZTXfxEt9cYcpUcnf6Jw</td>\n",
       "      <td>1MyEbHLZNqRgRP0XvAUrjB</td>\n",
       "      <td>0tZvlW8YxwnPS7Ui7pzF9q</td>\n",
       "      <td>3zpYoc5mkMwaY4JjNiitf9</td>\n",
       "      <td>0w76exF9cYIDXc1tkZGPFw</td>\n",
       "      <td>7vj9Rur6URu4sY5JoLGHP0</td>\n",
       "      <td>7k72R754CDdtZnWd4TORo4</td>\n",
       "      <td>6tFQ816K1IcSkLdpI2OTTh</td>\n",
       "      <td>1XJxfmKVIddQhlaTkAnJui</td>\n",
       "    </tr>\n",
       "    <tr>\n",
       "      <td>2</td>\n",
       "      <td>6Wosx2euFPMT14UXiWudMy</td>\n",
       "      <td>6z3OqZBR4v3w6s0w6dSVhF</td>\n",
       "      <td>536LtAJlONCorMQe539cKy</td>\n",
       "      <td>6UeZN3zstB5uu8JJM2eUM4</td>\n",
       "      <td>5Aiaju6nfXu6lTJNwfcndZ</td>\n",
       "      <td>7BrHYVzz9NA07DXo76sjdR</td>\n",
       "      <td>3KHPq5Im4kC9JPXWz6CwbT</td>\n",
       "      <td>5qjMQRC7fr5Z7pkytUh16b</td>\n",
       "      <td>4Mb2vNoUJ28dOSNwK1lhXx</td>\n",
       "      <td>1rvTKiLbFJuVvdaxnjlDtz</td>\n",
       "      <td>58iZeZLWATl8A9oUQnjlbj</td>\n",
       "    </tr>\n",
       "    <tr>\n",
       "      <td>3</td>\n",
       "      <td>3J2Jpw61sO7l6Hc7qdYV91</td>\n",
       "      <td>1jFL774GMnBl5Esa9SN4rL</td>\n",
       "      <td>5IsIBQ58FTGKxCHOkWOqio</td>\n",
       "      <td>0mAfMyv2YEm6eek8LX7hdV</td>\n",
       "      <td>01qc7HHvJdcNviyizhuCSI</td>\n",
       "      <td>7GhxPuxjwAbKEiQFMP5Mxd</td>\n",
       "      <td>2F4kolGzp9QN30sR0U5ord</td>\n",
       "      <td>1dcG1iBWoZzTj5zBWgkFFa</td>\n",
       "      <td>68QJVJJRoFXIQT6VW0dOTI</td>\n",
       "      <td>4lYNaHwkcKugUbai11GK3J</td>\n",
       "      <td>0prYWdIWaPR4xOCbdy00dQ</td>\n",
       "    </tr>\n",
       "    <tr>\n",
       "      <td>4</td>\n",
       "      <td>2jbYvQCyPgX3CdmAzeVeuS</td>\n",
       "      <td>4XAxQKMOR9scxNT43lBGgL</td>\n",
       "      <td>5K3nukdcaKk3dnDiVoDaWU</td>\n",
       "      <td>58StYU2nRzsyPPq9rXXJmK</td>\n",
       "      <td>5A5QbhltFlUwdgi0CFdHsZ</td>\n",
       "      <td>0HrMEvZHO45VboRZcpId8z</td>\n",
       "      <td>2K9W9VYOCUnHVAEfPoNzO8</td>\n",
       "      <td>0sRFDf3y2ELoP7YvnQDVnI</td>\n",
       "      <td>1MiVscnzTTwr84qHIZ6HXO</td>\n",
       "      <td>3uzWxX43P7RlUx9VjOugPS</td>\n",
       "      <td>09ZiRPA8PBNvCgfq7RhY06</td>\n",
       "    </tr>\n",
       "  </tbody>\n",
       "</table>\n",
       "</div>"
      ],
      "text/plain": [
       "            Searched_Song           Nearest_Song1           Nearest_Song2  \\\n",
       "0  2RM4jf1Xa9zPgMGRDiht8O  27j0DacqVJQh0zfeT3ro04  0v2ho4OPJppOu3JXtuiNWG   \n",
       "1  1tHDG53xJNGsItRA3vfVgs  3pU68iUbatcIjQD7PlIzFX  0NuZTXfxEt9cYcpUcnf6Jw   \n",
       "2  6Wosx2euFPMT14UXiWudMy  6z3OqZBR4v3w6s0w6dSVhF  536LtAJlONCorMQe539cKy   \n",
       "3  3J2Jpw61sO7l6Hc7qdYV91  1jFL774GMnBl5Esa9SN4rL  5IsIBQ58FTGKxCHOkWOqio   \n",
       "4  2jbYvQCyPgX3CdmAzeVeuS  4XAxQKMOR9scxNT43lBGgL  5K3nukdcaKk3dnDiVoDaWU   \n",
       "\n",
       "            Nearest_Song3           Nearest_Song4           Nearest_Song5  \\\n",
       "0  1wDVA4RdRktGUj1PO9UWry  1JueotTuCnkcTA7tBA5hLR  6gL8GtFF83CljrwbTOWTYa   \n",
       "1  1MyEbHLZNqRgRP0XvAUrjB  0tZvlW8YxwnPS7Ui7pzF9q  3zpYoc5mkMwaY4JjNiitf9   \n",
       "2  6UeZN3zstB5uu8JJM2eUM4  5Aiaju6nfXu6lTJNwfcndZ  7BrHYVzz9NA07DXo76sjdR   \n",
       "3  0mAfMyv2YEm6eek8LX7hdV  01qc7HHvJdcNviyizhuCSI  7GhxPuxjwAbKEiQFMP5Mxd   \n",
       "4  58StYU2nRzsyPPq9rXXJmK  5A5QbhltFlUwdgi0CFdHsZ  0HrMEvZHO45VboRZcpId8z   \n",
       "\n",
       "            Nearest_Song6           Nearest_Song7           Nearest_Song8  \\\n",
       "0  0xOMrILs6M1Xf9uoihYRy7  68CcjsUbRVus2F1MlcvHTx  0i9ctiWzDtHBuL19lVXv8t   \n",
       "1  0w76exF9cYIDXc1tkZGPFw  7vj9Rur6URu4sY5JoLGHP0  7k72R754CDdtZnWd4TORo4   \n",
       "2  3KHPq5Im4kC9JPXWz6CwbT  5qjMQRC7fr5Z7pkytUh16b  4Mb2vNoUJ28dOSNwK1lhXx   \n",
       "3  2F4kolGzp9QN30sR0U5ord  1dcG1iBWoZzTj5zBWgkFFa  68QJVJJRoFXIQT6VW0dOTI   \n",
       "4  2K9W9VYOCUnHVAEfPoNzO8  0sRFDf3y2ELoP7YvnQDVnI  1MiVscnzTTwr84qHIZ6HXO   \n",
       "\n",
       "            Nearest_Song9          Nearest_Song10  \n",
       "0  2OIZgCdPVPHAV8ZJAkEmAI  5W0TmFbf99HsjItflpvu2y  \n",
       "1  6tFQ816K1IcSkLdpI2OTTh  1XJxfmKVIddQhlaTkAnJui  \n",
       "2  1rvTKiLbFJuVvdaxnjlDtz  58iZeZLWATl8A9oUQnjlbj  \n",
       "3  4lYNaHwkcKugUbai11GK3J  0prYWdIWaPR4xOCbdy00dQ  \n",
       "4  3uzWxX43P7RlUx9VjOugPS  09ZiRPA8PBNvCgfq7RhY06  "
      ]
     },
     "execution_count": 8,
     "metadata": {},
     "output_type": "execute_result"
    }
   ],
   "source": [
    "df = pd.read_csv('../data/spotify_dataset_recommendations.csv')\n",
    "df.head()"
   ]
  },
  {
   "cell_type": "code",
   "execution_count": 9,
   "metadata": {
    "ExecuteTime": {
     "end_time": "2019-09-24T21:20:23.071227Z",
     "start_time": "2019-09-24T21:20:23.056733Z"
    },
    "scrolled": true
   },
   "outputs": [
    {
     "data": {
      "text/plain": [
       "[{'Searched_Song': '19jZAorZECjq46qBkDGFgB',\n",
       "  'Nearest_Song1': '2vsORzqhPlNS2IfWAiK7aN',\n",
       "  'Nearest_Song2': '07sa7qkxpemze5BBE7jufs',\n",
       "  'Nearest_Song3': '6ze9S9OhasiPJcvotMlGql',\n",
       "  'Nearest_Song4': '6bF2WojBks4owkACjoVzui',\n",
       "  'Nearest_Song5': '1K0wDDSip2lx4mp18qhPfc',\n",
       "  'Nearest_Song6': '74RuRl00ZziQUuDE2YKfdE',\n",
       "  'Nearest_Song7': '5decfzVHX60xDyAbpPl9B4',\n",
       "  'Nearest_Song8': '0tkN6LwMuOheLZc3CQP1RY',\n",
       "  'Nearest_Song9': '6JUCYyMgs4U2hTpmsFFULl',\n",
       "  'Nearest_Song10': '46QLBVJcksN2cm5vAGatYQ'}]"
      ]
     },
     "execution_count": 9,
     "metadata": {},
     "output_type": "execute_result"
    }
   ],
   "source": [
    "sample = df.sample(1, random_state=42)\n",
    "sample.to_dict(orient='records')"
   ]
  },
  {
   "cell_type": "markdown",
   "metadata": {},
   "source": [
    "### Valid Response"
   ]
  },
  {
   "cell_type": "code",
   "execution_count": 40,
   "metadata": {
    "ExecuteTime": {
     "end_time": "2019-09-24T22:17:20.389071Z",
     "start_time": "2019-09-24T22:17:20.259320Z"
    },
    "scrolled": false
   },
   "outputs": [
    {
     "name": "stdout",
     "output_type": "stream",
     "text": [
      "<Response [200]>\n",
      "{\n",
      "  \"Nearest_Song1\": \"27j0DacqVJQh0zfeT3ro04\", \n",
      "  \"Nearest_Song10\": \"5W0TmFbf99HsjItflpvu2y\", \n",
      "  \"Nearest_Song2\": \"0v2ho4OPJppOu3JXtuiNWG\", \n",
      "  \"Nearest_Song3\": \"1wDVA4RdRktGUj1PO9UWry\", \n",
      "  \"Nearest_Song4\": \"1JueotTuCnkcTA7tBA5hLR\", \n",
      "  \"Nearest_Song5\": \"6gL8GtFF83CljrwbTOWTYa\", \n",
      "  \"Nearest_Song6\": \"0xOMrILs6M1Xf9uoihYRy7\", \n",
      "  \"Nearest_Song7\": \"68CcjsUbRVus2F1MlcvHTx\", \n",
      "  \"Nearest_Song8\": \"0i9ctiWzDtHBuL19lVXv8t\", \n",
      "  \"Nearest_Song9\": \"2OIZgCdPVPHAV8ZJAkEmAI\", \n",
      "  \"Searched_Song\": \"2RM4jf1Xa9zPgMGRDiht8O\", \n",
      "  \"index\": 0\n",
      "}\n",
      "\n"
     ]
    }
   ],
   "source": [
    "input1 = '{\"Searched_Song\":\"2RM4jf1Xa9zPgMGRDiht8O\"}'\n",
    "url = \"http://localhost:5000/api\"\n",
    "response = requests.post(url, input1)\n",
    "\n",
    "print(response)\n",
    "print(response.text)"
   ]
  },
  {
   "cell_type": "markdown",
   "metadata": {},
   "source": [
    "### Invalid Response"
   ]
  },
  {
   "cell_type": "code",
   "execution_count": 43,
   "metadata": {
    "ExecuteTime": {
     "end_time": "2019-09-24T22:17:35.545895Z",
     "start_time": "2019-09-24T22:17:35.415321Z"
    }
   },
   "outputs": [
    {
     "name": "stdout",
     "output_type": "stream",
     "text": [
      "<Response [200]>\n",
      "Can't find the 2RMss4jsf1Xa9zPgMGRDiht8O\n"
     ]
    }
   ],
   "source": [
    "input2 = '{\"Searched_Song\":\"2RMss4jsf1Xa9zPgMGRDiht8O\"}'\n",
    "url = \"http://localhost:5000/api\"\n",
    "response = requests.post(url, input2)\n",
    "\n",
    "print(response)\n",
    "print(response.text)"
   ]
  }
 ],
 "metadata": {
  "kernelspec": {
   "display_name": "Python 3",
   "language": "python",
   "name": "python3"
  },
  "language_info": {
   "codemirror_mode": {
    "name": "ipython",
    "version": 3
   },
   "file_extension": ".py",
   "mimetype": "text/x-python",
   "name": "python",
   "nbconvert_exporter": "python",
   "pygments_lexer": "ipython3",
   "version": "3.7.4"
  }
 },
 "nbformat": 4,
 "nbformat_minor": 2
}
